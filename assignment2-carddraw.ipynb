{
 "cells": [
  {
   "cell_type": "markdown",
   "metadata": {},
   "source": [
    "# Assignment: Deal cards #"
   ]
  },
  {
   "cell_type": "code",
   "execution_count": null,
   "metadata": {},
   "outputs": [],
   "source": [
    "# Import required package\n",
    "import requests"
   ]
  },
  {
   "cell_type": "code",
   "execution_count": null,
   "metadata": {},
   "outputs": [],
   "source": [
    "# API for shuffling the cards. Deck_count = 1 for one deck of cards.\n",
    "shuffle_url = \"https://deckofcardsapi.com/api/deck/new/shuffle/?deck_count=1\""
   ]
  },
  {
   "cell_type": "code",
   "execution_count": 11,
   "metadata": {},
   "outputs": [
    {
     "name": "stdout",
     "output_type": "stream",
     "text": [
      "{'success': True, 'deck_id': 'e892f90euiwd', 'remaining': 52, 'shuffled': True}\n"
     ]
    }
   ],
   "source": [
    "# Get response from API and print\n",
    "response = requests.get(shuffle_url)\n",
    "deck = response.json()\n",
    "print(deck)"
   ]
  },
  {
   "cell_type": "code",
   "execution_count": 12,
   "metadata": {},
   "outputs": [
    {
     "name": "stdout",
     "output_type": "stream",
     "text": [
      "e892f90euiwd\n"
     ]
    }
   ],
   "source": [
    "# Save deck_id as a variable\n",
    "deck_id = deck['deck_id']\n",
    "print(deck_id)"
   ]
  },
  {
   "cell_type": "code",
   "execution_count": 13,
   "metadata": {},
   "outputs": [],
   "source": [
    "# API for drawing cards. count = 5 to draw 5 cards.Use f-string to make the url dynamic (instead of hard-coding deck_id)\n",
    "draw_url = f\"https://deckofcardsapi.com/api/deck/{deck_id}/draw/?count=5\""
   ]
  },
  {
   "cell_type": "code",
   "execution_count": 14,
   "metadata": {},
   "outputs": [
    {
     "name": "stdout",
     "output_type": "stream",
     "text": [
      "{'success': True, 'deck_id': 'e892f90euiwd', 'cards': [{'code': '8H', 'image': 'https://deckofcardsapi.com/static/img/8H.png', 'images': {'svg': 'https://deckofcardsapi.com/static/img/8H.svg', 'png': 'https://deckofcardsapi.com/static/img/8H.png'}, 'value': '8', 'suit': 'HEARTS'}, {'code': '8S', 'image': 'https://deckofcardsapi.com/static/img/8S.png', 'images': {'svg': 'https://deckofcardsapi.com/static/img/8S.svg', 'png': 'https://deckofcardsapi.com/static/img/8S.png'}, 'value': '8', 'suit': 'SPADES'}, {'code': '3D', 'image': 'https://deckofcardsapi.com/static/img/3D.png', 'images': {'svg': 'https://deckofcardsapi.com/static/img/3D.svg', 'png': 'https://deckofcardsapi.com/static/img/3D.png'}, 'value': '3', 'suit': 'DIAMONDS'}, {'code': '2S', 'image': 'https://deckofcardsapi.com/static/img/2S.png', 'images': {'svg': 'https://deckofcardsapi.com/static/img/2S.svg', 'png': 'https://deckofcardsapi.com/static/img/2S.png'}, 'value': '2', 'suit': 'SPADES'}, {'code': '0D', 'image': 'https://deckofcardsapi.com/static/img/0D.png', 'images': {'svg': 'https://deckofcardsapi.com/static/img/0D.svg', 'png': 'https://deckofcardsapi.com/static/img/0D.png'}, 'value': '10', 'suit': 'DIAMONDS'}], 'remaining': 47}\n"
     ]
    }
   ],
   "source": [
    "# Get response from API and print\n",
    "response = requests.get(draw_url)\n",
    "cards = response.json()\n",
    "print(cards)"
   ]
  },
  {
   "cell_type": "code",
   "execution_count": 28,
   "metadata": {},
   "outputs": [
    {
     "name": "stdout",
     "output_type": "stream",
     "text": [
      "8 of HEARTS\n",
      "8 of SPADES\n",
      "3 of DIAMONDS\n",
      "2 of SPADES\n",
      "10 of DIAMONDS\n"
     ]
    }
   ],
   "source": [
    "# Print out drawn cards\n",
    "for card in cards['cards']:\n",
    "    print (f\"{card['value']} of {card['suit']}\")"
   ]
  },
  {
   "cell_type": "code",
   "execution_count": null,
   "metadata": {},
   "outputs": [],
   "source": [
    "# Check poker hand"
   ]
  }
 ],
 "metadata": {
  "kernelspec": {
   "display_name": "base",
   "language": "python",
   "name": "python3"
  },
  "language_info": {
   "codemirror_mode": {
    "name": "ipython",
    "version": 3
   },
   "file_extension": ".py",
   "mimetype": "text/x-python",
   "name": "python",
   "nbconvert_exporter": "python",
   "pygments_lexer": "ipython3",
   "version": "3.11.10"
  }
 },
 "nbformat": 4,
 "nbformat_minor": 2
}
